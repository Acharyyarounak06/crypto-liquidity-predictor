{
 "cells": [
  {
   "cell_type": "markdown",
   "id": "33977de1",
   "metadata": {},
   "source": [
    "# Cryptocurrency Liquidity Prediction for Market Stability\n",
    "\n",
    "## Problem Statement\n",
    "Cryptocurrency markets are highly volatile, and liquidity plays a crucial role in market stability. In this project, we aim to build a machine learning model to predict cryptocurrency liquidity levels based on various market features such as trading volume, prices, and more."
   ]
  },
  {
   "cell_type": "code",
   "execution_count": null,
   "id": "32c4e36a",
   "metadata": {},
   "outputs": [],
   "source": [
    "import pandas as pd\n",
    "import numpy as np\n",
    "import matplotlib.pyplot as plt\n",
    "import seaborn as sns\n",
    "from sklearn.preprocessing import StandardScaler\n",
    "from sklearn.model_selection import train_test_split\n",
    "from sklearn.ensemble import RandomForestRegressor\n",
    "from sklearn.metrics import mean_squared_error, mean_absolute_error, r2_score\n",
    "import warnings\n",
    "warnings.filterwarnings('ignore')\n",
    "\n",
    "# Load dataset\n",
    "df = pd.read_csv('coin_gecko_2022-03-16.csv')\n",
    "df.head()"
   ]
  },
  {
   "cell_type": "markdown",
   "id": "bc8fdcd7",
   "metadata": {},
   "source": [
    "## Data Preprocessing\n",
    "- Handle missing values\n",
    "- Normalize features\n",
    "- Feature engineering"
   ]
  },
  {
   "cell_type": "code",
   "execution_count": null,
   "id": "f2290c13",
   "metadata": {},
   "outputs": [],
   "source": [
    "# Check missing values\n",
    "print(df.isnull().sum())\n",
    "\n",
    "# Fill or drop missing values\n",
    "df = df.dropna()\n",
    "\n",
    "# Convert date if available\n",
    "if 'date' in df.columns:\n",
    "    df['date'] = pd.to_datetime(df['date'])\n",
    "\n",
    "# Feature engineering example: moving average\n",
    "df['price_ma_7'] = df['price'].rolling(window=7).mean()\n",
    "df['volatility_7'] = df['price'].rolling(window=7).std()\n",
    "df = df.dropna()"
   ]
  },
  {
   "cell_type": "markdown",
   "id": "4ed2a948",
   "metadata": {},
   "source": [
    "## Exploratory Data Analysis"
   ]
  },
  {
   "cell_type": "code",
   "execution_count": null,
   "id": "860ce2f2",
   "metadata": {},
   "outputs": [],
   "source": [
    "sns.lineplot(x='date', y='price', data=df)\n",
    "plt.title('Price Trend')\n",
    "plt.show()\n",
    "\n",
    "sns.heatmap(df.corr(), annot=True, cmap='coolwarm')"
   ]
  },
  {
   "cell_type": "markdown",
   "id": "906b9d8f",
   "metadata": {},
   "source": [
    "## Model Preparation"
   ]
  },
  {
   "cell_type": "code",
   "execution_count": null,
   "id": "b265d496",
   "metadata": {},
   "outputs": [],
   "source": [
    "# Select features and target\n",
    "features = ['volume', 'price_ma_7', 'volatility_7']\n",
    "target = 'price'\n",
    "\n",
    "X = df[features]\n",
    "y = df[target]\n",
    "\n",
    "# Scale features\n",
    "scaler = StandardScaler()\n",
    "X_scaled = scaler.fit_transform(X)\n",
    "\n",
    "# Train/test split\n",
    "X_train, X_test, y_train, y_test = train_test_split(X_scaled, y, test_size=0.2, random_state=42)"
   ]
  },
  {
   "cell_type": "markdown",
   "id": "920e0b8f",
   "metadata": {},
   "source": [
    "## Model Training"
   ]
  },
  {
   "cell_type": "code",
   "execution_count": null,
   "id": "871c8b46",
   "metadata": {},
   "outputs": [],
   "source": [
    "model = RandomForestRegressor(n_estimators=100, random_state=42)\n",
    "model.fit(X_train, y_train)\n",
    "y_pred = model.predict(X_test)"
   ]
  },
  {
   "cell_type": "markdown",
   "id": "7b4587bc",
   "metadata": {},
   "source": [
    "## Model Evaluation"
   ]
  },
  {
   "cell_type": "code",
   "execution_count": null,
   "id": "e3d30cb8",
   "metadata": {},
   "outputs": [],
   "source": [
    "print('RMSE:', np.sqrt(mean_squared_error(y_test, y_pred)))\n",
    "print('MAE:', mean_absolute_error(y_test, y_pred))\n",
    "print('R² Score:', r2_score(y_test, y_pred))"
   ]
  },
  {
   "cell_type": "markdown",
   "id": "858e93a4",
   "metadata": {},
   "source": [
    "## Conclusion\n",
    "- We trained a Random Forest model to predict cryptocurrency liquidity indicators.\n",
    "- Evaluation metrics show how well the model performed.\n",
    "- Further improvement possible with time series models or deep learning."
   ]
  }
 ],
 "metadata": {},
 "nbformat": 4,
 "nbformat_minor": 5
}